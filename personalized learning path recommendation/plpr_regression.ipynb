{
 "cells": [
  {
   "cell_type": "code",
   "execution_count": 1,
   "id": "14a52584-92fe-4f0c-9720-7b7f64c209ed",
   "metadata": {},
   "outputs": [
    {
     "name": "stdout",
     "output_type": "stream",
     "text": [
      "Model Evaluation:\n",
      "Mean Squared Error (MSE): 229.38\n",
      "R-Squared (R²): -0.10\n",
      "\n",
      "Prediction for Sample Input:\n",
      "Predicted Quiz Score: 93.42\n"
     ]
    },
    {
     "name": "stderr",
     "output_type": "stream",
     "text": [
      "C:\\Users\\pushp\\anaconda3\\Lib\\site-packages\\sklearn\\preprocessing\\_encoders.py:242: UserWarning: Found unknown categories in columns [0, 2] during transform. These unknown categories will be encoded as all zeros\n",
      "  warnings.warn(\n"
     ]
    }
   ],
   "source": [
    "import pandas as pd\n",
    "import numpy as np\n",
    "from sklearn.model_selection import train_test_split\n",
    "from sklearn.preprocessing import OneHotEncoder, StandardScaler\n",
    "from sklearn.ensemble import GradientBoostingRegressor\n",
    "from sklearn.metrics import mean_squared_error, r2_score\n",
    "\n",
    "\n",
    "file_path = \"college_english_learning_dataset.csv\"\n",
    "dataset = pd.read_csv(file_path)\n",
    "\n",
    "\n",
    "target = 'Quiz_Score' \n",
    "features = ['Session_Type', 'Engagement_Level', 'Response_Time', \n",
    "            'Time_Spent', 'Mistakes_Observed', 'Activity_Status', 'Model_Used']\n",
    "\n",
    "X = dataset[features]\n",
    "y = dataset[target]\n",
    "\n",
    "\n",
    "categorical_features = X.select_dtypes(include=['object']).columns\n",
    "encoder = OneHotEncoder(sparse_output=False, drop='first', handle_unknown='ignore')\n",
    "X_categorical_encoded = encoder.fit_transform(X[categorical_features])\n",
    "\n",
    "\n",
    "numerical_features = X.select_dtypes(include=['int64', 'float64']).columns\n",
    "scaler = StandardScaler()\n",
    "X_numerical_scaled = scaler.fit_transform(X[numerical_features])\n",
    "\n",
    "X_processed = np.hstack([X_numerical_scaled, X_categorical_encoded])\n",
    "\n",
    "X_train, X_test, y_train, y_test = train_test_split(X_processed, y, test_size=0.2, random_state=42)\n",
    "\n",
    "regressor = GradientBoostingRegressor(random_state=42)\n",
    "regressor.fit(X_train, y_train)\n",
    "\n",
    "y_pred = regressor.predict(X_test)\n",
    "\n",
    "mse = mean_squared_error(y_test, y_pred)\n",
    "r2 = r2_score(y_test, y_pred)\n",
    "\n",
    "print(\"Model Evaluation:\")\n",
    "print(f\"Mean Squared Error (MSE): {mse:.2f}\")\n",
    "print(f\"R-Squared (R²): {r2:.2f}\")\n",
    "\n",
    "sample_numerical = [2, 5.0, 3.5, 100] \n",
    "sample_categorical = ['SessionB', 'Active', 'Model2']  \n",
    "\n",
    "sample_input_df = pd.DataFrame([sample_categorical + sample_numerical],\n",
    "                               columns=list(categorical_features) + list(numerical_features))\n",
    "\n",
    "sample_categorical_encoded = encoder.transform(sample_input_df[categorical_features])\n",
    "sample_numerical_scaled = scaler.transform(sample_input_df[numerical_features])\n",
    "\n",
    "sample_input_processed = np.hstack([sample_numerical_scaled, sample_categorical_encoded])\n",
    "\n",
    "# Make prediction\n",
    "sample_prediction = regressor.predict(sample_input_processed)\n",
    "print(\"\\nPrediction for Sample Input:\")\n",
    "print(f\"Predicted Quiz Score: {sample_prediction[0]:.2f}\")\n"
   ]
  },
  {
   "cell_type": "code",
   "execution_count": null,
   "id": "4ef17cdb-087a-4363-bba6-fa9e505ebeff",
   "metadata": {},
   "outputs": [],
   "source": []
  }
 ],
 "metadata": {
  "kernelspec": {
   "display_name": "Python [conda env:base] *",
   "language": "python",
   "name": "conda-base-py"
  },
  "language_info": {
   "codemirror_mode": {
    "name": "ipython",
    "version": 3
   },
   "file_extension": ".py",
   "mimetype": "text/x-python",
   "name": "python",
   "nbconvert_exporter": "python",
   "pygments_lexer": "ipython3",
   "version": "3.12.7"
  }
 },
 "nbformat": 4,
 "nbformat_minor": 5
}
