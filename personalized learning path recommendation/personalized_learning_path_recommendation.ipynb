{
 "cells": [
  {
   "cell_type": "code",
   "execution_count": 5,
   "id": "983e8004-b8d1-4c29-a269-cd031d833663",
   "metadata": {},
   "outputs": [
    {
     "name": "stdout",
     "output_type": "stream",
     "text": [
      "Classification Report:\n",
      "\n",
      "              precision    recall  f1-score   support\n",
      "\n",
      "  Incomplete       0.56      0.52      0.54        54\n",
      "   Completed       0.48      0.52      0.50        46\n",
      "\n",
      "    accuracy                           0.52       100\n",
      "   macro avg       0.52      0.52      0.52       100\n",
      "weighted avg       0.52      0.52      0.52       100\n",
      "\n"
     ]
    }
   ],
   "source": [
    "import pandas as pd\n",
    "import numpy as np\n",
    "from sklearn.model_selection import train_test_split\n",
    "from sklearn.preprocessing import OneHotEncoder, StandardScaler\n",
    "from sklearn.ensemble import RandomForestClassifier\n",
    "from sklearn.metrics import classification_report\n",
    "\n",
    "# Load the dataset\n",
    "file_path = \"college_english_learning_dataset.csv\"\n",
    "dataset = pd.read_csv(file_path)\n",
    "\n",
    "# Selecting target and features\n",
    "target = 'Task_Completion_Status'\n",
    "features = ['Session_Type', 'Engagement_Level', 'Response_Time', 'Quiz_Score', \n",
    "            'Time_Spent', 'Mistakes_Observed', 'Activity_Status', 'Model_Used']\n",
    "\n",
    "X = dataset[features]\n",
    "y = dataset[target]\n",
    "\n",
    "# Encode categorical features\n",
    "categorical_features = X.select_dtypes(include=['object']).columns\n",
    "encoder = OneHotEncoder(sparse_output=False, drop='first')\n",
    "X_encoded = encoder.fit_transform(X[categorical_features])\n",
    "\n",
    "# Standardize numerical features\n",
    "numerical_features = X.select_dtypes(include=['int64', 'float64']).columns\n",
    "scaler = StandardScaler()\n",
    "X_scaled = scaler.fit_transform(X[numerical_features])\n",
    "\n",
    "# Combine processed categorical and numerical features\n",
    "X_processed = np.hstack([X_scaled, X_encoded])\n",
    "\n",
    "# Encode the target variable\n",
    "y_encoded = (y == 'Completed').astype(int)  # Binary: 1 if 'Completed', else 0\n",
    "\n",
    "# Split into train and test sets\n",
    "X_train, X_test, y_train, y_test = train_test_split(X_processed, y_encoded, test_size=0.2, random_state=42)\n",
    "\n",
    "# Build and train the model\n",
    "clf = RandomForestClassifier(random_state=42)\n",
    "clf.fit(X_train, y_train)\n",
    "\n",
    "# Predict and evaluate\n",
    "y_pred = clf.predict(X_test)\n",
    "report = classification_report(y_test, y_pred, target_names=['Incomplete', 'Completed'])\n",
    "\n",
    "# Display results\n",
    "print(\"Classification Report:\\n\")\n",
    "print(report)\n"
   ]
  },
  {
   "cell_type": "code",
   "execution_count": null,
   "id": "0010be5d-03e7-4e15-b397-0475f2174e7d",
   "metadata": {},
   "outputs": [],
   "source": []
  }
 ],
 "metadata": {
  "kernelspec": {
   "display_name": "Python [conda env:base] *",
   "language": "python",
   "name": "conda-base-py"
  },
  "language_info": {
   "codemirror_mode": {
    "name": "ipython",
    "version": 3
   },
   "file_extension": ".py",
   "mimetype": "text/x-python",
   "name": "python",
   "nbconvert_exporter": "python",
   "pygments_lexer": "ipython3",
   "version": "3.12.7"
  }
 },
 "nbformat": 4,
 "nbformat_minor": 5
}
